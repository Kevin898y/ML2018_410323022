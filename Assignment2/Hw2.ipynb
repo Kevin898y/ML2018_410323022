{
 "cells": [
  {
   "cell_type": "code",
   "execution_count": 18,
   "metadata": {},
   "outputs": [],
   "source": [
    "%matplotlib inline\n",
    "import numpy as np\n",
    "import matplotlib.pyplot as plt\n",
    "from sklearn.datasets import fetch_mldata\n",
    "from sklearn.svm import SVC\n",
    "from sklearn.decomposition import PCA\n",
    "from sklearn.model_selection import train_test_split\n",
    "from sklearn.linear_model import LogisticRegression\n",
    "from sklearn import tree"
   ]
  },
  {
   "cell_type": "code",
   "execution_count": 20,
   "metadata": {},
   "outputs": [],
   "source": [
    "def Reducing_Dimension(mnist,x):\n",
    "    pca = PCA(x) # 0.95~0.97\n",
    "    pca.fit(mnist.data)\n",
    "    mnist.data = pca.transform(mnist.data)"
   ]
  },
  {
   "cell_type": "code",
   "execution_count": 39,
   "metadata": {},
   "outputs": [],
   "source": [
    "def test_SVM(x_train,y_train,x_test,y_test):\n",
    "    clf = SVC(decision_function_shape='ovo')\n",
    "    clf.fit(x_train, y_train)\n",
    "    clf.score(x_test,y_test)\n",
    "    print(\"SVM Accuracy: \"+str(clf.score(x_test,y_test)))"
   ]
  },
  {
   "cell_type": "code",
   "execution_count": 40,
   "metadata": {},
   "outputs": [],
   "source": [
    "def Logistic_Regression(x_train,y_train,x_test,y_test):\n",
    "    clf = LogisticRegression(solver = 'lbfgs')\n",
    "    clf.fit(x_train, y_train)\n",
    "    print(\"Logistic_Regression Accuracy: \"+str(clf.score(x_test,y_test)))"
   ]
  },
  {
   "cell_type": "code",
   "execution_count": 41,
   "metadata": {},
   "outputs": [],
   "source": [
    "def Decision_Tree(x_train,y_train,x_test,y_test):\n",
    "    clf = tree.DecisionTreeClassifier()\n",
    "    clf.fit(x_train, y_train)\n",
    "    print(\"Decision_Tree Accuracy: \"+str(clf.score(x_test,y_test)))"
   ]
  },
  {
   "cell_type": "code",
   "execution_count": 42,
   "metadata": {},
   "outputs": [
    {
     "name": "stdout",
     "output_type": "stream",
     "text": [
      "SVM Accuracy: 0.969\n",
      "Logistic_Regression Accuracy: 0.9133\n",
      "Decision_Tree Accuracy: 0.831\n"
     ]
    }
   ],
   "source": [
    "def main():\n",
    "    mnist = fetch_mldata('MNIST original') #fetch data\n",
    "    mnist.data = mnist.data/255.0 #normalization\n",
    "    Reducing_Dimension(mnist, 0.95) #.95 ~ .97\n",
    "    x_train, x_test, y_train, y_test = train_test_split(mnist.data, mnist.target, test_size= 10000, random_state=0)\n",
    "    test_SVM(x_train,y_train,x_test,y_test)\n",
    "    Logistic_Regression(x_train,y_train,x_test,y_test)\n",
    "    Decision_Tree(x_train,y_train,x_test,y_test)\n",
    "\n",
    "main()"
   ]
  },
  {
   "cell_type": "code",
   "execution_count": null,
   "metadata": {
    "collapsed": true
   },
   "outputs": [],
   "source": []
  }
 ],
 "metadata": {
  "kernelspec": {
   "display_name": "Python 3",
   "language": "python",
   "name": "python3"
  },
  "language_info": {
   "codemirror_mode": {
    "name": "ipython",
    "version": 3
   },
   "file_extension": ".py",
   "mimetype": "text/x-python",
   "name": "python",
   "nbconvert_exporter": "python",
   "pygments_lexer": "ipython3",
   "version": "3.6.3"
  }
 },
 "nbformat": 4,
 "nbformat_minor": 2
}
